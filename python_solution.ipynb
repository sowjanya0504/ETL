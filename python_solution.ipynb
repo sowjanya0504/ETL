{
 "cells": [
  {
   "cell_type": "code",
   "execution_count": 9,
   "metadata": {},
   "outputs": [],
   "source": [
    "import sqlite3\n",
    "import pandas as pd\n",
    "import csv\n",
    "\n",
    "db_path = r'D:\\test_sow\\Data Engineer Assignment\\S30 ETL Assignment.db'\n",
    "connection = sqlite3.connect(db_path)\n",
    "customers_df = pd.read_sql_query(\"SELECT * FROM customers\", connection)\n",
    "sales_df = pd.read_sql_query(\"SELECT * FROM sales\", connection)\n",
    "orders_df = pd.read_sql_query(\"SELECT * FROM orders\", connection)\n",
    "items_df = pd.read_sql_query(\"SELECT * FROM items\", connection)\n",
    "\n",
    "merged_df = pd.merge(sales_df, orders_df, left_on='sales_id', right_on='sales_id')\n",
    "merged_df = pd.merge(merged_df, customers_df, left_on='customer_id', right_on='customer_id')\n",
    "merged_df = pd.merge(merged_df, items_df, left_on='item_id', right_on='item_id')\n",
    "filtered_df = merged_df[(merged_df['age'] >= 18) & (merged_df['age'] <= 35) & (merged_df['quantity'].notnull())]\n",
    "grouped_df = filtered_df.groupby(['customer_id', 'age', 'item_name'], as_index=False)['quantity'].sum()\n",
    "final_df = grouped_df[grouped_df['quantity'] > 0]\n",
    "output_csv_path = r'D:\\test_sow\\Data Engineer Assignment\\output.csv'\n",
    "final_df.to_csv(output_csv_path, sep=';', index=False, header=['Customer', 'Age', 'Item', 'Quantity'])\n",
    "connection.close()\n"
   ]
  },
  {
   "cell_type": "code",
   "execution_count": null,
   "metadata": {},
   "outputs": [],
   "source": []
  },
  {
   "cell_type": "code",
   "execution_count": null,
   "metadata": {},
   "outputs": [],
   "source": []
  }
 ],
 "metadata": {
  "kernelspec": {
   "display_name": "base",
   "language": "python",
   "name": "python3"
  },
  "language_info": {
   "codemirror_mode": {
    "name": "ipython",
    "version": 3
   },
   "file_extension": ".py",
   "mimetype": "text/x-python",
   "name": "python",
   "nbconvert_exporter": "python",
   "pygments_lexer": "ipython3",
   "version": "3.12.4"
  }
 },
 "nbformat": 4,
 "nbformat_minor": 2
}
